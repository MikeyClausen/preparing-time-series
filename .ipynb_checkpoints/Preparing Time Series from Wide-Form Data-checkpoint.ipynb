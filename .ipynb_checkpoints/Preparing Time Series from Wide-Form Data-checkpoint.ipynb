{
 "cells": [
  {
   "cell_type": "code",
   "execution_count": 1,
   "id": "c0a873f4",
   "metadata": {},
   "outputs": [],
   "source": [
    "#Imports\n",
    "import os\n",
    "os.environ[\"OMP_NUM_THREADS\"] = '1'\n",
    "import pandas as pd\n",
    "import numpy as np\n",
    "import matplotlib.pyplot as plt\n",
    "from matplotlib.ticker import FuncFormatter\n",
    "import matplotlib.dates as mdates"
   ]
  },
  {
   "cell_type": "code",
   "execution_count": 2,
   "id": "8a0e0bd4",
   "metadata": {},
   "outputs": [],
   "source": [
    "url='https://docs.google.com/spreadsheets/d/e/2PACX-1vQN3Ksa9szQuO4G1-msXWAp17KtVHQCBnuEieu_auu1wSiBf3-krHusIx5VBMkihxj-KZLBosDIGEyR/pub?output=csv'"
   ]
  },
  {
   "cell_type": "code",
   "execution_count": null,
   "id": "582fe4af",
   "metadata": {},
   "outputs": [],
   "source": [
    "df=pd.read_csv(url)"
   ]
  },
  {
   "cell_type": "code",
   "execution_count": null,
   "id": "464c70a5",
   "metadata": {},
   "outputs": [],
   "source": [
    "df.head(2)"
   ]
  },
  {
   "cell_type": "code",
   "execution_count": null,
   "id": "ef9dbd3c",
   "metadata": {
    "scrolled": true
   },
   "outputs": [],
   "source": [
    "df.columns"
   ]
  },
  {
   "cell_type": "code",
   "execution_count": null,
   "id": "c6dd04cd",
   "metadata": {},
   "outputs": [],
   "source": [
    "df['SizeRank'].unique()"
   ]
  },
  {
   "cell_type": "code",
   "execution_count": null,
   "id": "62fb1434",
   "metadata": {},
   "outputs": [],
   "source": [
    "# larger city=lower rank.\n",
    "largest_city_ranks = [0, 1, 2, 3]\n",
    "large_city = df[df['SizeRank'].isin(largest_city_ranks)]"
   ]
  },
  {
   "cell_type": "code",
   "execution_count": null,
   "id": "f8926d48",
   "metadata": {},
   "outputs": [],
   "source": [
    "# Id vars\n",
    "id_variables=['RegionID','SizeRank','RegionName','RegionType',\n",
    "              'StateName','State','Metro','CountyName']\n",
    "#Melt\n",
    "melted=pd.melt(large_city,id_vars=id_variables, var_name='Date',\n",
    "               value_name='HomeValue')\n",
    "#convert date to datetime.\n",
    "melted['Date']=pd.to_datetime(melted['Date'])\n",
    "#Set index\n",
    "melted.set_index('Date',inplace=True)\n",
    "#resample\n",
    "monthly=melted.resample('M').mean(numeric_only=True)"
   ]
  },
  {
   "cell_type": "code",
   "execution_count": null,
   "id": "a747ef3c",
   "metadata": {},
   "outputs": [],
   "source": [
    "monthly['SizeRank'] = monthly['SizeRank'].astype(int)"
   ]
  },
  {
   "cell_type": "code",
   "execution_count": null,
   "id": "07053ae9",
   "metadata": {},
   "outputs": [],
   "source": [
    "fig, ax = plt.subplots(figsize=(10, 6))\n",
    "\n",
    "# Iterate through each size rank\n",
    "for size_rank in largest_city_ranks:\n",
    "    city_data = monthly[monthly['SizeRank'] == size_rank]\n",
    "    ax.plot(city_data.index, city_data['HomeValue'], label=f'City {size_rank}')\n",
    "\n",
    "# Set x-axis and y-axis labels\n",
    "ax.set_xlabel('Date')\n",
    "ax.set_ylabel('Average Home Value')\n",
    "ax.set_title('Average Home Values for the Four Largest Cities')\n",
    "\n",
    "# Add legend\n",
    "ax.legend()\n",
    "\n",
    "# Format y-axis tick labels as K (thousands)\n",
    "def format_ticks(value, tick_number):\n",
    "    return f'{value/1000:.0f}K'\n",
    "ax.yaxis.set_major_formatter(FuncFormatter(format_ticks))\n",
    "\n",
    "# Format x-axis date labels\n",
    "ax.xaxis.set_major_formatter(mdates.DateFormatter('%Y-%m'))\n",
    "ax.xaxis.set_major_locator(mdates.YearLocator())\n",
    "\n",
    "# Rotate x-axis date labels for better readability\n",
    "fig.autofmt_xdate()\n",
    "\n",
    "# Show the plot\n",
    "plt.show()"
   ]
  },
  {
   "cell_type": "code",
   "execution_count": null,
   "id": "4c17b6da",
   "metadata": {},
   "outputs": [],
   "source": [
    "monthly.head()"
   ]
  },
  {
   "cell_type": "code",
   "execution_count": null,
   "id": "3ad316b6",
   "metadata": {},
   "outputs": [],
   "source": [
    "#Filter for 2008\n",
    "dec_2008 = monthly.loc['2008-12-31']\n",
    "#sort values\n",
    "sorted_cities=large_city.sort_values(by='2008-12-31',ascending=False)\n",
    "#iloc for highest and lowest.\n",
    "highest=sorted_cities.iloc[0]['RegionName']\n",
    "lowest=sorted_cities.iloc[-1]['RegionName']"
   ]
  },
  {
   "cell_type": "markdown",
   "id": "400c8389",
   "metadata": {},
   "source": [
    "# Which City had the highest Typical Home Value at the end of 2008? Which had the least?"
   ]
  },
  {
   "cell_type": "code",
   "execution_count": null,
   "id": "ed1fdd78",
   "metadata": {},
   "outputs": [],
   "source": [
    "print(\"City with the highest typical home value at the end of 2008:\",highest)\n",
    "print(\"City with the least typical home value at the end of 2008:\",lowest)"
   ]
  },
  {
   "cell_type": "markdown",
   "id": "0ca6a913",
   "metadata": {},
   "source": [
    "# How much did the home values change from November 2008 to December 2008 (in dollars)?"
   ]
  },
  {
   "cell_type": "code",
   "execution_count": null,
   "id": "18215ed9",
   "metadata": {},
   "outputs": [],
   "source": [
    "change2008 = monthly['HomeValue'].diff(periods=1).loc['2008-12-31']\n",
    "print(\"Change in home values from November 2008 to December 2008:\",change2008)"
   ]
  }
 ],
 "metadata": {
  "kernelspec": {
   "display_name": "Python (dojo-env)",
   "language": "python",
   "name": "dojo-env"
  },
  "language_info": {
   "codemirror_mode": {
    "name": "ipython",
    "version": 3
   },
   "file_extension": ".py",
   "mimetype": "text/x-python",
   "name": "python",
   "nbconvert_exporter": "python",
   "pygments_lexer": "ipython3",
   "version": "3.9.15"
  },
  "toc": {
   "base_numbering": 1,
   "nav_menu": {},
   "number_sections": true,
   "sideBar": true,
   "skip_h1_title": false,
   "title_cell": "Table of Contents",
   "title_sidebar": "Contents",
   "toc_cell": false,
   "toc_position": {},
   "toc_section_display": true,
   "toc_window_display": false
  }
 },
 "nbformat": 4,
 "nbformat_minor": 5
}
