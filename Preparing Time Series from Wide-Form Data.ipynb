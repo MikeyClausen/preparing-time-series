{
 "cells": [
  {
   "cell_type": "code",
   "execution_count": 1,
   "id": "c0a873f4",
   "metadata": {},
   "outputs": [],
   "source": [
    "#Imports\n",
    "import os\n",
    "os.environ[\"OMP_NUM_THREADS\"] = '1'\n",
    "import pandas as pd\n",
    "import numpy as np\n",
    "import matplotlib.pyplot as plt\n",
    "from matplotlib.ticker import FuncFormatter\n",
    "import matplotlib.dates as mdates\n",
    "import datetime"
   ]
  },
  {
   "cell_type": "code",
   "execution_count": 2,
   "id": "8a0e0bd4",
   "metadata": {},
   "outputs": [],
   "source": [
    "url='https://docs.google.com/spreadsheets/d/e/2PACX-1vQN3Ksa9szQuO4G1-msXWAp17KtVHQCBnuEieu_auu1wSiBf3-krHusIx5VBMkihxj-KZLBosDIGEyR/pub?output=csv'"
   ]
  },
  {
   "cell_type": "code",
   "execution_count": 3,
   "id": "582fe4af",
   "metadata": {},
   "outputs": [],
   "source": [
    "df=pd.read_csv(url)"
   ]
  },
  {
   "cell_type": "code",
   "execution_count": 4,
   "id": "464c70a5",
   "metadata": {},
   "outputs": [
    {
     "data": {
      "text/html": [
       "<div>\n",
       "<style scoped>\n",
       "    .dataframe tbody tr th:only-of-type {\n",
       "        vertical-align: middle;\n",
       "    }\n",
       "\n",
       "    .dataframe tbody tr th {\n",
       "        vertical-align: top;\n",
       "    }\n",
       "\n",
       "    .dataframe thead th {\n",
       "        text-align: right;\n",
       "    }\n",
       "</style>\n",
       "<table border=\"1\" class=\"dataframe\">\n",
       "  <thead>\n",
       "    <tr style=\"text-align: right;\">\n",
       "      <th></th>\n",
       "      <th>RegionID</th>\n",
       "      <th>SizeRank</th>\n",
       "      <th>RegionName</th>\n",
       "      <th>RegionType</th>\n",
       "      <th>StateName</th>\n",
       "      <th>State</th>\n",
       "      <th>Metro</th>\n",
       "      <th>CountyName</th>\n",
       "      <th>2000-01-31</th>\n",
       "      <th>2000-02-29</th>\n",
       "      <th>...</th>\n",
       "      <th>2021-12-31</th>\n",
       "      <th>2022-01-31</th>\n",
       "      <th>2022-02-28</th>\n",
       "      <th>2022-03-31</th>\n",
       "      <th>2022-04-30</th>\n",
       "      <th>2022-05-31</th>\n",
       "      <th>2022-06-30</th>\n",
       "      <th>2022-07-31</th>\n",
       "      <th>2022-08-31</th>\n",
       "      <th>2022-09-30</th>\n",
       "    </tr>\n",
       "  </thead>\n",
       "  <tbody>\n",
       "    <tr>\n",
       "      <th>0</th>\n",
       "      <td>6181</td>\n",
       "      <td>0</td>\n",
       "      <td>New York</td>\n",
       "      <td>city</td>\n",
       "      <td>NY</td>\n",
       "      <td>NY</td>\n",
       "      <td>New York-Newark-Jersey City, NY-NJ-PA</td>\n",
       "      <td>Queens County</td>\n",
       "      <td>253690.0</td>\n",
       "      <td>255517.0</td>\n",
       "      <td>...</td>\n",
       "      <td>741586.0</td>\n",
       "      <td>745686.0</td>\n",
       "      <td>750578.0</td>\n",
       "      <td>756734.0</td>\n",
       "      <td>762321.0</td>\n",
       "      <td>768797.0</td>\n",
       "      <td>773944.0</td>\n",
       "      <td>777692.0</td>\n",
       "      <td>779960.0</td>\n",
       "      <td>781622.0</td>\n",
       "    </tr>\n",
       "    <tr>\n",
       "      <th>1</th>\n",
       "      <td>12447</td>\n",
       "      <td>1</td>\n",
       "      <td>Los Angeles</td>\n",
       "      <td>city</td>\n",
       "      <td>CA</td>\n",
       "      <td>CA</td>\n",
       "      <td>Los Angeles-Long Beach-Anaheim, CA</td>\n",
       "      <td>Los Angeles County</td>\n",
       "      <td>234181.0</td>\n",
       "      <td>234401.0</td>\n",
       "      <td>...</td>\n",
       "      <td>924019.0</td>\n",
       "      <td>928991.0</td>\n",
       "      <td>937936.0</td>\n",
       "      <td>953874.0</td>\n",
       "      <td>973168.0</td>\n",
       "      <td>990391.0</td>\n",
       "      <td>992337.0</td>\n",
       "      <td>992630.0</td>\n",
       "      <td>978196.0</td>\n",
       "      <td>966595.0</td>\n",
       "    </tr>\n",
       "  </tbody>\n",
       "</table>\n",
       "<p>2 rows × 281 columns</p>\n",
       "</div>"
      ],
      "text/plain": [
       "   RegionID  SizeRank   RegionName RegionType StateName State  \\\n",
       "0      6181         0     New York       city        NY    NY   \n",
       "1     12447         1  Los Angeles       city        CA    CA   \n",
       "\n",
       "                                   Metro          CountyName  2000-01-31  \\\n",
       "0  New York-Newark-Jersey City, NY-NJ-PA       Queens County    253690.0   \n",
       "1     Los Angeles-Long Beach-Anaheim, CA  Los Angeles County    234181.0   \n",
       "\n",
       "   2000-02-29  ...  2021-12-31  2022-01-31  2022-02-28  2022-03-31  \\\n",
       "0    255517.0  ...    741586.0    745686.0    750578.0    756734.0   \n",
       "1    234401.0  ...    924019.0    928991.0    937936.0    953874.0   \n",
       "\n",
       "   2022-04-30  2022-05-31  2022-06-30  2022-07-31  2022-08-31  2022-09-30  \n",
       "0    762321.0    768797.0    773944.0    777692.0    779960.0    781622.0  \n",
       "1    973168.0    990391.0    992337.0    992630.0    978196.0    966595.0  \n",
       "\n",
       "[2 rows x 281 columns]"
      ]
     },
     "execution_count": 4,
     "metadata": {},
     "output_type": "execute_result"
    }
   ],
   "source": [
    "df.head(2)"
   ]
  },
  {
   "cell_type": "code",
   "execution_count": 5,
   "id": "ef9dbd3c",
   "metadata": {
    "scrolled": true
   },
   "outputs": [
    {
     "data": {
      "text/plain": [
       "Index(['RegionID', 'SizeRank', 'RegionName', 'RegionType', 'StateName',\n",
       "       'State', 'Metro', 'CountyName', '2000-01-31', '2000-02-29',\n",
       "       ...\n",
       "       '2021-12-31', '2022-01-31', '2022-02-28', '2022-03-31', '2022-04-30',\n",
       "       '2022-05-31', '2022-06-30', '2022-07-31', '2022-08-31', '2022-09-30'],\n",
       "      dtype='object', length=281)"
      ]
     },
     "execution_count": 5,
     "metadata": {},
     "output_type": "execute_result"
    }
   ],
   "source": [
    "df.columns"
   ]
  },
  {
   "cell_type": "code",
   "execution_count": 6,
   "id": "c6dd04cd",
   "metadata": {},
   "outputs": [
    {
     "data": {
      "text/plain": [
       "array([    0,     1,     2, ..., 28413, 28415, 28439], dtype=int64)"
      ]
     },
     "execution_count": 6,
     "metadata": {},
     "output_type": "execute_result"
    }
   ],
   "source": [
    "df['SizeRank'].unique()"
   ]
  },
  {
   "cell_type": "code",
   "execution_count": 7,
   "id": "62fb1434",
   "metadata": {},
   "outputs": [],
   "source": [
    "#larger city=lower rank.\n",
    "largest_city_ranks = [0, 1, 2, 3]\n",
    "large_city = df[df['SizeRank'].isin(largest_city_ranks)]"
   ]
  },
  {
   "cell_type": "code",
   "execution_count": 8,
   "id": "f8926d48",
   "metadata": {},
   "outputs": [],
   "source": [
    "id_variables=['RegionID','SizeRank','RegionName','RegionType',\n",
    "              'StateName','State','Metro','CountyName']\n",
    "melted=pd.melt(large_city,id_vars=id_variables, var_name='Date',\n",
    "               value_name='HomeValue')\n",
    "melted['Date']=pd.to_datetime(melted['Date'])\n",
    "melted.set_index('Date', inplace=True)\n",
    "monthly = melted.groupby([pd.Grouper(freq='M'), 'SizeRank']).mean(numeric_only=True).reset_index()"
   ]
  },
  {
   "cell_type": "code",
   "execution_count": 9,
   "id": "56c1cc2a",
   "metadata": {},
   "outputs": [
    {
     "data": {
      "image/png": "[encoded data removed]",
      "text/plain": [
       "<Figure size 1000x600 with 1 Axes>"
      ]
     },
     "metadata": {},
     "output_type": "display_data"
    }
   ],
   "source": [
    "fig, ax = plt.subplots(figsize=(10, 6))\n",
    "for size_rank in largest_city_ranks:\n",
    "    city_data = monthly[monthly['SizeRank'] == size_rank]\n",
    "    ax.plot(city_data['Date'], city_data['HomeValue'], label=f'City {size_rank}')\n",
    "ax.set_xlabel('Date')\n",
    "ax.set_ylabel('Average Home Value')\n",
    "ax.set_title('Average Home Values for the Four Largest Cities')\n",
    "ax.legend()\n",
    "def format_ticks(value, tick_number):\n",
    "    return f'{value/1000:.0f}K'\n",
    "ax.yaxis.set_major_formatter(FuncFormatter(format_ticks))\n",
    "ax.xaxis.set_major_formatter(mdates.DateFormatter('%Y-%m'))\n",
    "ax.xaxis.set_major_locator(mdates.YearLocator())\n",
    "fig.autofmt_xdate()\n",
    "plt.show()"
   ]
  },
  {
   "cell_type": "code",
   "execution_count": 10,
   "id": "4c17b6da",
   "metadata": {},
   "outputs": [
    {
     "data": {
      "text/html": [
       "<div>\n",
       "<style scoped>\n",
       "    .dataframe tbody tr th:only-of-type {\n",
       "        vertical-align: middle;\n",
       "    }\n",
       "\n",
       "    .dataframe tbody tr th {\n",
       "        vertical-align: top;\n",
       "    }\n",
       "\n",
       "    .dataframe thead th {\n",
       "        text-align: right;\n",
       "    }\n",
       "</style>\n",
       "<table border=\"1\" class=\"dataframe\">\n",
       "  <thead>\n",
       "    <tr style=\"text-align: right;\">\n",
       "      <th></th>\n",
       "      <th>Date</th>\n",
       "      <th>SizeRank</th>\n",
       "      <th>RegionID</th>\n",
       "      <th>HomeValue</th>\n",
       "    </tr>\n",
       "  </thead>\n",
       "  <tbody>\n",
       "    <tr>\n",
       "      <th>0</th>\n",
       "      <td>2000-01-31</td>\n",
       "      <td>0</td>\n",
       "      <td>6181.0</td>\n",
       "      <td>253690.0</td>\n",
       "    </tr>\n",
       "    <tr>\n",
       "      <th>1</th>\n",
       "      <td>2000-01-31</td>\n",
       "      <td>1</td>\n",
       "      <td>12447.0</td>\n",
       "      <td>234181.0</td>\n",
       "    </tr>\n",
       "    <tr>\n",
       "      <th>2</th>\n",
       "      <td>2000-01-31</td>\n",
       "      <td>2</td>\n",
       "      <td>39051.0</td>\n",
       "      <td>109068.0</td>\n",
       "    </tr>\n",
       "    <tr>\n",
       "      <th>3</th>\n",
       "      <td>2000-01-31</td>\n",
       "      <td>3</td>\n",
       "      <td>17426.0</td>\n",
       "      <td>166139.0</td>\n",
       "    </tr>\n",
       "    <tr>\n",
       "      <th>4</th>\n",
       "      <td>2000-02-29</td>\n",
       "      <td>0</td>\n",
       "      <td>6181.0</td>\n",
       "      <td>255517.0</td>\n",
       "    </tr>\n",
       "    <tr>\n",
       "      <th>5</th>\n",
       "      <td>2000-02-29</td>\n",
       "      <td>1</td>\n",
       "      <td>12447.0</td>\n",
       "      <td>234401.0</td>\n",
       "    </tr>\n",
       "    <tr>\n",
       "      <th>6</th>\n",
       "      <td>2000-02-29</td>\n",
       "      <td>2</td>\n",
       "      <td>39051.0</td>\n",
       "      <td>109079.0</td>\n",
       "    </tr>\n",
       "    <tr>\n",
       "      <th>7</th>\n",
       "      <td>2000-02-29</td>\n",
       "      <td>3</td>\n",
       "      <td>17426.0</td>\n",
       "      <td>166536.0</td>\n",
       "    </tr>\n",
       "    <tr>\n",
       "      <th>8</th>\n",
       "      <td>2000-03-31</td>\n",
       "      <td>0</td>\n",
       "      <td>6181.0</td>\n",
       "      <td>257207.0</td>\n",
       "    </tr>\n",
       "    <tr>\n",
       "      <th>9</th>\n",
       "      <td>2000-03-31</td>\n",
       "      <td>1</td>\n",
       "      <td>12447.0</td>\n",
       "      <td>235513.0</td>\n",
       "    </tr>\n",
       "  </tbody>\n",
       "</table>\n",
       "</div>"
      ],
      "text/plain": [
       "        Date  SizeRank  RegionID  HomeValue\n",
       "0 2000-01-31         0    6181.0   253690.0\n",
       "1 2000-01-31         1   12447.0   234181.0\n",
       "2 2000-01-31         2   39051.0   109068.0\n",
       "3 2000-01-31         3   17426.0   166139.0\n",
       "4 2000-02-29         0    6181.0   255517.0\n",
       "5 2000-02-29         1   12447.0   234401.0\n",
       "6 2000-02-29         2   39051.0   109079.0\n",
       "7 2000-02-29         3   17426.0   166536.0\n",
       "8 2000-03-31         0    6181.0   257207.0\n",
       "9 2000-03-31         1   12447.0   235513.0"
      ]
     },
     "execution_count": 10,
     "metadata": {},
     "output_type": "execute_result"
    }
   ],
   "source": [
    "monthly.head(10)"
   ]
  },
  {
   "cell_type": "code",
   "execution_count": 11,
   "id": "3ad316b6",
   "metadata": {},
   "outputs": [],
   "source": [
    "target_date = datetime.datetime(2008, 12, 31)\n",
    "nov_2008 = monthly[monthly['Date'] == pd.to_datetime('2008-11-30')]\n",
    "dec_2008 = monthly[monthly['Date'] == pd.to_datetime('2008-12-31')]\n",
    "change_in_home_values = dec_2008['HomeValue'].values - nov_2008['HomeValue'].values\n",
    "sorted_cities_dec_2008 = large_city.sort_values(by='2008-12-31', ascending=False)\n",
    "highest = sorted_cities_dec_2008.iloc[0]['RegionName']\n",
    "lowest = sorted_cities_dec_2008.iloc[-1]['RegionName']"
   ]
  },
  {
   "cell_type": "markdown",
   "id": "400c8389",
   "metadata": {},
   "source": [
    "# Which City had the highest Typical Home Value at the end of 2008? Which had the least?"
   ]
  },
  {
   "cell_type": "code",
   "execution_count": 12,
   "id": "ed1fdd78",
   "metadata": {},
   "outputs": [
    {
     "name": "stdout",
     "output_type": "stream",
     "text": [
      "City with the highest typical home value at the end of 2008: New York\n",
      "City with the least typical home value at the end of 2008: Houston\n",
      "City 0: New York - $510309.00\n",
      "City 1: Los Angeles - $469294.00\n",
      "City 3: Chicago - $265306.00\n",
      "City 2: Houston - $131283.00\n"
     ]
    }
   ],
   "source": [
    "print(\"City with the highest typical home value at the end of 2008:\",highest)\n",
    "print(\"City with the least typical home value at the end of 2008:\",lowest)\n",
    "for index, row in sorted_cities_dec_2008.iterrows():\n",
    "    print(f\"City {row['SizeRank']}: {row['RegionName']} - ${row['2008-12-31']:.2f}\")"
   ]
  },
  {
   "cell_type": "markdown",
   "id": "0ca6a913",
   "metadata": {},
   "source": [
    "# How much did the home values change from November 2008 to December 2008 (in dollars)?"
   ]
  },
  {
   "cell_type": "code",
   "execution_count": 13,
   "id": "ee90ce78",
   "metadata": {},
   "outputs": [
    {
     "name": "stdout",
     "output_type": "stream",
     "text": [
      "City 0: New York - $-4458.00\n",
      "City 1: Los Angeles - $-12611.00\n",
      "City 2: Houston - $-964.00\n",
      "City 3: Chicago - $-5753.00\n"
     ]
    }
   ],
   "source": [
    "for i, size_rank in enumerate(largest_city_ranks):\n",
    "    city_name = large_city[large_city['SizeRank'] == size_rank]['RegionName'].values[0]\n",
    "    change = change_in_home_values[i]\n",
    "    print(f\"City {size_rank}: {city_name} - ${change:.2f}\")"
   ]
  }
 ],
 "metadata": {
  "kernelspec": {
   "display_name": "Python (dojo-env)",
   "language": "python",
   "name": "dojo-env"
  },
  "language_info": {
   "codemirror_mode": {
    "name": "ipython",
    "version": 3
   },
   "file_extension": ".py",
   "mimetype": "text/x-python",
   "name": "python",
   "nbconvert_exporter": "python",
   "pygments_lexer": "ipython3",
   "version": "3.9.15"
  },
  "toc": {
   "base_numbering": 1,
   "nav_menu": {},
   "number_sections": true,
   "sideBar": true,
   "skip_h1_title": false,
   "title_cell": "Table of Contents",
   "title_sidebar": "Contents",
   "toc_cell": false,
   "toc_position": {},
   "toc_section_display": true,
   "toc_window_display": false
  }
 },
 "nbformat": 4,
 "nbformat_minor": 5
}
